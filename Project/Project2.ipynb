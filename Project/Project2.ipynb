{
 "metadata": {
  "language_info": {
   "codemirror_mode": {
    "name": "ipython",
    "version": 3
   },
   "file_extension": ".py",
   "mimetype": "text/x-python",
   "name": "python",
   "nbconvert_exporter": "python",
   "pygments_lexer": "ipython3",
   "version": "3.9.1-final"
  },
  "orig_nbformat": 2,
  "kernelspec": {
   "name": "python3",
   "display_name": "Python 3.9.1 64-bit",
   "metadata": {
    "interpreter": {
     "hash": "7812ea015bdcee6f23a998adcdd2ef97c151c0c241b7b7070987d9313e41299d"
    }
   }
  }
 },
 "nbformat": 4,
 "nbformat_minor": 2,
 "cells": [
  {
   "cell_type": "code",
   "execution_count": 9,
   "metadata": {},
   "outputs": [],
   "source": [
    "#importer les librairies\n",
    "import matplotlib.pyplot as plt\n",
    "import numpy as np\n",
    "import pandas as pd\n",
    "import seaborn as sns\n",
    "\n",
    "%matplotlib inline"
   ]
  },
  {
   "cell_type": "code",
   "execution_count": 18,
   "metadata": {},
   "outputs": [],
   "source": [
    "data = pd.read_csv('advertising.xls') #charger database \n"
   ]
  },
  {
   "cell_type": "code",
   "execution_count": 44,
   "metadata": {},
   "outputs": [
    {
     "output_type": "execute_result",
     "data": {
      "text/plain": [
       "        TV  Radio  Newspaper  Sales\n",
       "0    230.1   37.8       69.2   22.1\n",
       "1     44.5   39.3       45.1   10.4\n",
       "2     17.2   45.9       69.3   12.0\n",
       "3    151.5   41.3       58.5   16.5\n",
       "4    180.8   10.8       58.4   17.9\n",
       "..     ...    ...        ...    ...\n",
       "195   38.2    3.7       13.8    7.6\n",
       "196   94.2    4.9        8.1   14.0\n",
       "197  177.0    9.3        6.4   14.8\n",
       "198  283.6   42.0       66.2   25.5\n",
       "199  232.1    8.6        8.7   18.4\n",
       "\n",
       "[200 rows x 4 columns]"
      ],
      "text/html": "<div>\n<style scoped>\n    .dataframe tbody tr th:only-of-type {\n        vertical-align: middle;\n    }\n\n    .dataframe tbody tr th {\n        vertical-align: top;\n    }\n\n    .dataframe thead th {\n        text-align: right;\n    }\n</style>\n<table border=\"1\" class=\"dataframe\">\n  <thead>\n    <tr style=\"text-align: right;\">\n      <th></th>\n      <th>TV</th>\n      <th>Radio</th>\n      <th>Newspaper</th>\n      <th>Sales</th>\n    </tr>\n  </thead>\n  <tbody>\n    <tr>\n      <th>0</th>\n      <td>230.1</td>\n      <td>37.8</td>\n      <td>69.2</td>\n      <td>22.1</td>\n    </tr>\n    <tr>\n      <th>1</th>\n      <td>44.5</td>\n      <td>39.3</td>\n      <td>45.1</td>\n      <td>10.4</td>\n    </tr>\n    <tr>\n      <th>2</th>\n      <td>17.2</td>\n      <td>45.9</td>\n      <td>69.3</td>\n      <td>12.0</td>\n    </tr>\n    <tr>\n      <th>3</th>\n      <td>151.5</td>\n      <td>41.3</td>\n      <td>58.5</td>\n      <td>16.5</td>\n    </tr>\n    <tr>\n      <th>4</th>\n      <td>180.8</td>\n      <td>10.8</td>\n      <td>58.4</td>\n      <td>17.9</td>\n    </tr>\n    <tr>\n      <th>...</th>\n      <td>...</td>\n      <td>...</td>\n      <td>...</td>\n      <td>...</td>\n    </tr>\n    <tr>\n      <th>195</th>\n      <td>38.2</td>\n      <td>3.7</td>\n      <td>13.8</td>\n      <td>7.6</td>\n    </tr>\n    <tr>\n      <th>196</th>\n      <td>94.2</td>\n      <td>4.9</td>\n      <td>8.1</td>\n      <td>14.0</td>\n    </tr>\n    <tr>\n      <th>197</th>\n      <td>177.0</td>\n      <td>9.3</td>\n      <td>6.4</td>\n      <td>14.8</td>\n    </tr>\n    <tr>\n      <th>198</th>\n      <td>283.6</td>\n      <td>42.0</td>\n      <td>66.2</td>\n      <td>25.5</td>\n    </tr>\n    <tr>\n      <th>199</th>\n      <td>232.1</td>\n      <td>8.6</td>\n      <td>8.7</td>\n      <td>18.4</td>\n    </tr>\n  </tbody>\n</table>\n<p>200 rows × 4 columns</p>\n</div>"
     },
     "metadata": {},
     "execution_count": 44
    }
   ],
   "source": [
    "data"
   ]
  },
  {
   "cell_type": "code",
   "execution_count": 32,
   "metadata": {},
   "outputs": [
    {
     "output_type": "execute_result",
     "data": {
      "text/plain": [
       "        TV  Radio  Newspaper  Sales\n",
       "195   38.2    3.7       13.8    7.6\n",
       "196   94.2    4.9        8.1   14.0\n",
       "197  177.0    9.3        6.4   14.8\n",
       "198  283.6   42.0       66.2   25.5\n",
       "199  232.1    8.6        8.7   18.4"
      ],
      "text/html": "<div>\n<style scoped>\n    .dataframe tbody tr th:only-of-type {\n        vertical-align: middle;\n    }\n\n    .dataframe tbody tr th {\n        vertical-align: top;\n    }\n\n    .dataframe thead th {\n        text-align: right;\n    }\n</style>\n<table border=\"1\" class=\"dataframe\">\n  <thead>\n    <tr style=\"text-align: right;\">\n      <th></th>\n      <th>TV</th>\n      <th>Radio</th>\n      <th>Newspaper</th>\n      <th>Sales</th>\n    </tr>\n  </thead>\n  <tbody>\n    <tr>\n      <th>195</th>\n      <td>38.2</td>\n      <td>3.7</td>\n      <td>13.8</td>\n      <td>7.6</td>\n    </tr>\n    <tr>\n      <th>196</th>\n      <td>94.2</td>\n      <td>4.9</td>\n      <td>8.1</td>\n      <td>14.0</td>\n    </tr>\n    <tr>\n      <th>197</th>\n      <td>177.0</td>\n      <td>9.3</td>\n      <td>6.4</td>\n      <td>14.8</td>\n    </tr>\n    <tr>\n      <th>198</th>\n      <td>283.6</td>\n      <td>42.0</td>\n      <td>66.2</td>\n      <td>25.5</td>\n    </tr>\n    <tr>\n      <th>199</th>\n      <td>232.1</td>\n      <td>8.6</td>\n      <td>8.7</td>\n      <td>18.4</td>\n    </tr>\n  </tbody>\n</table>\n</div>"
     },
     "metadata": {},
     "execution_count": 32
    }
   ],
   "source": [
    "data.tail(5) #Q3"
   ]
  },
  {
   "cell_type": "code",
   "execution_count": 33,
   "metadata": {},
   "outputs": [
    {
     "output_type": "stream",
     "name": "stdout",
     "text": [
      "<class 'pandas.core.frame.DataFrame'>\nRangeIndex: 200 entries, 0 to 199\nData columns (total 4 columns):\n #   Column     Non-Null Count  Dtype  \n---  ------     --------------  -----  \n 0   TV         200 non-null    float64\n 1   Radio      200 non-null    float64\n 2   Newspaper  200 non-null    float64\n 3   Sales      200 non-null    float64\ndtypes: float64(4)\nmemory usage: 6.4 KB\n"
     ]
    }
   ],
   "source": [
    "data.info() #Q4"
   ]
  },
  {
   "cell_type": "code",
   "execution_count": 37,
   "metadata": {},
   "outputs": [
    {
     "output_type": "execute_result",
     "data": {
      "text/plain": [
       "False"
      ]
     },
     "metadata": {},
     "execution_count": 37
    }
   ],
   "source": [
    "d.isnull().values.any()#Q5"
   ]
  },
  {
   "cell_type": "code",
   "execution_count": 192,
   "metadata": {},
   "outputs": [
    {
     "output_type": "execute_result",
     "data": {
      "text/plain": [
       "        TV  Radio  Newspaper  Sales\n",
       "0    230.1   37.8       69.2   22.1\n",
       "4    180.8   10.8       58.4   17.9\n",
       "9    199.8    2.6       21.2   15.6\n",
       "11   214.7   24.0        4.0   17.4\n",
       "14   204.1   32.9       46.0   19.0\n",
       "15   195.4   47.7       52.9   22.4\n",
       "20   218.4   27.7       53.4   18.0\n",
       "21   237.4    5.1       23.5   17.5\n",
       "23   228.3   16.9       26.2   20.5\n",
       "27   240.1   16.7       22.9   20.9\n",
       "28   248.8   27.1       22.9   18.9\n",
       "39   228.0   37.7       32.0   21.5\n",
       "40   202.5   22.3       31.6   16.6\n",
       "43   206.9    8.4       26.4   17.9\n",
       "47   239.9   41.5       18.5   23.2\n",
       "48   227.2   15.8       49.9   19.8\n",
       "50   199.8    3.1       34.6   16.4\n",
       "52   216.4   41.7       39.6   22.6\n",
       "53   182.6   46.2       58.7   21.2\n",
       "55   198.9   49.4       60.0   23.7\n",
       "58   210.8   49.6       37.7   23.8\n",
       "59   210.7   29.5        9.3   18.4\n",
       "62   239.3   15.5       27.3   20.7\n",
       "68   237.4   27.5       11.0   18.9\n",
       "69   216.8   43.9       27.2   22.3\n",
       "70   199.1   30.6       38.7   18.3\n",
       "74   213.4   24.6       13.1   17.0\n",
       "81   239.8    4.1       36.9   17.3\n",
       "84   213.5   43.0       33.8   21.7\n",
       "85   193.2   18.4       65.7   20.2\n",
       "92   217.7   33.5       59.0   19.4\n",
       "96   197.6    3.5        5.9   16.7\n",
       "97   184.9   21.0       22.0   20.5\n",
       "100  222.4    4.3       49.8   16.7\n",
       "103  187.9   17.2       17.9   19.7\n",
       "104  238.2   34.3        5.3   20.7\n",
       "110  225.8    8.2       56.5   18.4\n",
       "111  241.7   38.0       23.2   21.8\n",
       "113  209.6   20.6       10.7   20.9\n",
       "122  224.0    2.4       15.6   16.6\n",
       "124  229.5   32.3       74.2   19.7\n",
       "128  220.3   49.0        3.2   24.7\n",
       "133  219.8   33.5       45.1   19.6\n",
       "139  184.9   43.9        1.7   20.7\n",
       "141  193.7   35.4       75.6   19.2\n",
       "142  220.5   33.2       37.9   20.1\n",
       "146  240.1    7.3        8.7   18.2\n",
       "147  243.2   49.0       44.3   25.4\n",
       "152  197.6   23.3       14.2   16.6\n",
       "154  187.8   21.1        9.5   20.6\n",
       "162  188.4   18.1       25.6   19.9\n",
       "165  234.5    3.4       84.8   16.9\n",
       "167  206.8    5.2       19.4   17.2\n",
       "168  215.4   23.6       57.6   17.1\n",
       "174  222.4    3.4       13.1   16.5\n",
       "176  248.4   30.2       20.3   20.2\n",
       "181  218.5    5.4       27.4   17.2\n",
       "185  205.0   45.1       19.6   22.6\n",
       "187  191.1   28.7       18.2   17.3\n",
       "199  232.1    8.6        8.7   18.4"
      ],
      "text/html": "<div>\n<style scoped>\n    .dataframe tbody tr th:only-of-type {\n        vertical-align: middle;\n    }\n\n    .dataframe tbody tr th {\n        vertical-align: top;\n    }\n\n    .dataframe thead th {\n        text-align: right;\n    }\n</style>\n<table border=\"1\" class=\"dataframe\">\n  <thead>\n    <tr style=\"text-align: right;\">\n      <th></th>\n      <th>TV</th>\n      <th>Radio</th>\n      <th>Newspaper</th>\n      <th>Sales</th>\n    </tr>\n  </thead>\n  <tbody>\n    <tr>\n      <th>0</th>\n      <td>230.1</td>\n      <td>37.8</td>\n      <td>69.2</td>\n      <td>22.1</td>\n    </tr>\n    <tr>\n      <th>4</th>\n      <td>180.8</td>\n      <td>10.8</td>\n      <td>58.4</td>\n      <td>17.9</td>\n    </tr>\n    <tr>\n      <th>9</th>\n      <td>199.8</td>\n      <td>2.6</td>\n      <td>21.2</td>\n      <td>15.6</td>\n    </tr>\n    <tr>\n      <th>11</th>\n      <td>214.7</td>\n      <td>24.0</td>\n      <td>4.0</td>\n      <td>17.4</td>\n    </tr>\n    <tr>\n      <th>14</th>\n      <td>204.1</td>\n      <td>32.9</td>\n      <td>46.0</td>\n      <td>19.0</td>\n    </tr>\n    <tr>\n      <th>15</th>\n      <td>195.4</td>\n      <td>47.7</td>\n      <td>52.9</td>\n      <td>22.4</td>\n    </tr>\n    <tr>\n      <th>20</th>\n      <td>218.4</td>\n      <td>27.7</td>\n      <td>53.4</td>\n      <td>18.0</td>\n    </tr>\n    <tr>\n      <th>21</th>\n      <td>237.4</td>\n      <td>5.1</td>\n      <td>23.5</td>\n      <td>17.5</td>\n    </tr>\n    <tr>\n      <th>23</th>\n      <td>228.3</td>\n      <td>16.9</td>\n      <td>26.2</td>\n      <td>20.5</td>\n    </tr>\n    <tr>\n      <th>27</th>\n      <td>240.1</td>\n      <td>16.7</td>\n      <td>22.9</td>\n      <td>20.9</td>\n    </tr>\n    <tr>\n      <th>28</th>\n      <td>248.8</td>\n      <td>27.1</td>\n      <td>22.9</td>\n      <td>18.9</td>\n    </tr>\n    <tr>\n      <th>39</th>\n      <td>228.0</td>\n      <td>37.7</td>\n      <td>32.0</td>\n      <td>21.5</td>\n    </tr>\n    <tr>\n      <th>40</th>\n      <td>202.5</td>\n      <td>22.3</td>\n      <td>31.6</td>\n      <td>16.6</td>\n    </tr>\n    <tr>\n      <th>43</th>\n      <td>206.9</td>\n      <td>8.4</td>\n      <td>26.4</td>\n      <td>17.9</td>\n    </tr>\n    <tr>\n      <th>47</th>\n      <td>239.9</td>\n      <td>41.5</td>\n      <td>18.5</td>\n      <td>23.2</td>\n    </tr>\n    <tr>\n      <th>48</th>\n      <td>227.2</td>\n      <td>15.8</td>\n      <td>49.9</td>\n      <td>19.8</td>\n    </tr>\n    <tr>\n      <th>50</th>\n      <td>199.8</td>\n      <td>3.1</td>\n      <td>34.6</td>\n      <td>16.4</td>\n    </tr>\n    <tr>\n      <th>52</th>\n      <td>216.4</td>\n      <td>41.7</td>\n      <td>39.6</td>\n      <td>22.6</td>\n    </tr>\n    <tr>\n      <th>53</th>\n      <td>182.6</td>\n      <td>46.2</td>\n      <td>58.7</td>\n      <td>21.2</td>\n    </tr>\n    <tr>\n      <th>55</th>\n      <td>198.9</td>\n      <td>49.4</td>\n      <td>60.0</td>\n      <td>23.7</td>\n    </tr>\n    <tr>\n      <th>58</th>\n      <td>210.8</td>\n      <td>49.6</td>\n      <td>37.7</td>\n      <td>23.8</td>\n    </tr>\n    <tr>\n      <th>59</th>\n      <td>210.7</td>\n      <td>29.5</td>\n      <td>9.3</td>\n      <td>18.4</td>\n    </tr>\n    <tr>\n      <th>62</th>\n      <td>239.3</td>\n      <td>15.5</td>\n      <td>27.3</td>\n      <td>20.7</td>\n    </tr>\n    <tr>\n      <th>68</th>\n      <td>237.4</td>\n      <td>27.5</td>\n      <td>11.0</td>\n      <td>18.9</td>\n    </tr>\n    <tr>\n      <th>69</th>\n      <td>216.8</td>\n      <td>43.9</td>\n      <td>27.2</td>\n      <td>22.3</td>\n    </tr>\n    <tr>\n      <th>70</th>\n      <td>199.1</td>\n      <td>30.6</td>\n      <td>38.7</td>\n      <td>18.3</td>\n    </tr>\n    <tr>\n      <th>74</th>\n      <td>213.4</td>\n      <td>24.6</td>\n      <td>13.1</td>\n      <td>17.0</td>\n    </tr>\n    <tr>\n      <th>81</th>\n      <td>239.8</td>\n      <td>4.1</td>\n      <td>36.9</td>\n      <td>17.3</td>\n    </tr>\n    <tr>\n      <th>84</th>\n      <td>213.5</td>\n      <td>43.0</td>\n      <td>33.8</td>\n      <td>21.7</td>\n    </tr>\n    <tr>\n      <th>85</th>\n      <td>193.2</td>\n      <td>18.4</td>\n      <td>65.7</td>\n      <td>20.2</td>\n    </tr>\n    <tr>\n      <th>92</th>\n      <td>217.7</td>\n      <td>33.5</td>\n      <td>59.0</td>\n      <td>19.4</td>\n    </tr>\n    <tr>\n      <th>96</th>\n      <td>197.6</td>\n      <td>3.5</td>\n      <td>5.9</td>\n      <td>16.7</td>\n    </tr>\n    <tr>\n      <th>97</th>\n      <td>184.9</td>\n      <td>21.0</td>\n      <td>22.0</td>\n      <td>20.5</td>\n    </tr>\n    <tr>\n      <th>100</th>\n      <td>222.4</td>\n      <td>4.3</td>\n      <td>49.8</td>\n      <td>16.7</td>\n    </tr>\n    <tr>\n      <th>103</th>\n      <td>187.9</td>\n      <td>17.2</td>\n      <td>17.9</td>\n      <td>19.7</td>\n    </tr>\n    <tr>\n      <th>104</th>\n      <td>238.2</td>\n      <td>34.3</td>\n      <td>5.3</td>\n      <td>20.7</td>\n    </tr>\n    <tr>\n      <th>110</th>\n      <td>225.8</td>\n      <td>8.2</td>\n      <td>56.5</td>\n      <td>18.4</td>\n    </tr>\n    <tr>\n      <th>111</th>\n      <td>241.7</td>\n      <td>38.0</td>\n      <td>23.2</td>\n      <td>21.8</td>\n    </tr>\n    <tr>\n      <th>113</th>\n      <td>209.6</td>\n      <td>20.6</td>\n      <td>10.7</td>\n      <td>20.9</td>\n    </tr>\n    <tr>\n      <th>122</th>\n      <td>224.0</td>\n      <td>2.4</td>\n      <td>15.6</td>\n      <td>16.6</td>\n    </tr>\n    <tr>\n      <th>124</th>\n      <td>229.5</td>\n      <td>32.3</td>\n      <td>74.2</td>\n      <td>19.7</td>\n    </tr>\n    <tr>\n      <th>128</th>\n      <td>220.3</td>\n      <td>49.0</td>\n      <td>3.2</td>\n      <td>24.7</td>\n    </tr>\n    <tr>\n      <th>133</th>\n      <td>219.8</td>\n      <td>33.5</td>\n      <td>45.1</td>\n      <td>19.6</td>\n    </tr>\n    <tr>\n      <th>139</th>\n      <td>184.9</td>\n      <td>43.9</td>\n      <td>1.7</td>\n      <td>20.7</td>\n    </tr>\n    <tr>\n      <th>141</th>\n      <td>193.7</td>\n      <td>35.4</td>\n      <td>75.6</td>\n      <td>19.2</td>\n    </tr>\n    <tr>\n      <th>142</th>\n      <td>220.5</td>\n      <td>33.2</td>\n      <td>37.9</td>\n      <td>20.1</td>\n    </tr>\n    <tr>\n      <th>146</th>\n      <td>240.1</td>\n      <td>7.3</td>\n      <td>8.7</td>\n      <td>18.2</td>\n    </tr>\n    <tr>\n      <th>147</th>\n      <td>243.2</td>\n      <td>49.0</td>\n      <td>44.3</td>\n      <td>25.4</td>\n    </tr>\n    <tr>\n      <th>152</th>\n      <td>197.6</td>\n      <td>23.3</td>\n      <td>14.2</td>\n      <td>16.6</td>\n    </tr>\n    <tr>\n      <th>154</th>\n      <td>187.8</td>\n      <td>21.1</td>\n      <td>9.5</td>\n      <td>20.6</td>\n    </tr>\n    <tr>\n      <th>162</th>\n      <td>188.4</td>\n      <td>18.1</td>\n      <td>25.6</td>\n      <td>19.9</td>\n    </tr>\n    <tr>\n      <th>165</th>\n      <td>234.5</td>\n      <td>3.4</td>\n      <td>84.8</td>\n      <td>16.9</td>\n    </tr>\n    <tr>\n      <th>167</th>\n      <td>206.8</td>\n      <td>5.2</td>\n      <td>19.4</td>\n      <td>17.2</td>\n    </tr>\n    <tr>\n      <th>168</th>\n      <td>215.4</td>\n      <td>23.6</td>\n      <td>57.6</td>\n      <td>17.1</td>\n    </tr>\n    <tr>\n      <th>174</th>\n      <td>222.4</td>\n      <td>3.4</td>\n      <td>13.1</td>\n      <td>16.5</td>\n    </tr>\n    <tr>\n      <th>176</th>\n      <td>248.4</td>\n      <td>30.2</td>\n      <td>20.3</td>\n      <td>20.2</td>\n    </tr>\n    <tr>\n      <th>181</th>\n      <td>218.5</td>\n      <td>5.4</td>\n      <td>27.4</td>\n      <td>17.2</td>\n    </tr>\n    <tr>\n      <th>185</th>\n      <td>205.0</td>\n      <td>45.1</td>\n      <td>19.6</td>\n      <td>22.6</td>\n    </tr>\n    <tr>\n      <th>187</th>\n      <td>191.1</td>\n      <td>28.7</td>\n      <td>18.2</td>\n      <td>17.3</td>\n    </tr>\n    <tr>\n      <th>199</th>\n      <td>232.1</td>\n      <td>8.6</td>\n      <td>8.7</td>\n      <td>18.4</td>\n    </tr>\n  </tbody>\n</table>\n</div>"
     },
     "metadata": {},
     "execution_count": 192
    }
   ],
   "source": [
    "ventes = data[(data['TV']<20)] #Q6) filtrer notre data\n",
    "ventes[['Sales']].count() "
   ]
  },
  {
   "cell_type": "code",
   "execution_count": 189,
   "metadata": {},
   "outputs": [
    {
     "output_type": "execute_result",
     "data": {
      "text/plain": [
       "        TV  Radio  Newspaper  Sales\n",
       "1     44.5   39.3       45.1   10.4\n",
       "2     17.2   45.9       69.3   12.0\n",
       "3    151.5   41.3       58.5   16.5\n",
       "4    180.8   10.8       58.4   17.9\n",
       "5      8.7   48.9       75.0    7.2\n",
       "..     ...    ...        ...    ...\n",
       "193  166.8   42.0        3.6   19.6\n",
       "194  149.7   35.6        6.0   17.3\n",
       "195   38.2    3.7       13.8    7.6\n",
       "196   94.2    4.9        8.1   14.0\n",
       "197  177.0    9.3        6.4   14.8\n",
       "\n",
       "[139 rows x 4 columns]"
      ],
      "text/html": "<div>\n<style scoped>\n    .dataframe tbody tr th:only-of-type {\n        vertical-align: middle;\n    }\n\n    .dataframe tbody tr th {\n        vertical-align: top;\n    }\n\n    .dataframe thead th {\n        text-align: right;\n    }\n</style>\n<table border=\"1\" class=\"dataframe\">\n  <thead>\n    <tr style=\"text-align: right;\">\n      <th></th>\n      <th>TV</th>\n      <th>Radio</th>\n      <th>Newspaper</th>\n      <th>Sales</th>\n    </tr>\n  </thead>\n  <tbody>\n    <tr>\n      <th>1</th>\n      <td>44.5</td>\n      <td>39.3</td>\n      <td>45.1</td>\n      <td>10.4</td>\n    </tr>\n    <tr>\n      <th>2</th>\n      <td>17.2</td>\n      <td>45.9</td>\n      <td>69.3</td>\n      <td>12.0</td>\n    </tr>\n    <tr>\n      <th>3</th>\n      <td>151.5</td>\n      <td>41.3</td>\n      <td>58.5</td>\n      <td>16.5</td>\n    </tr>\n    <tr>\n      <th>4</th>\n      <td>180.8</td>\n      <td>10.8</td>\n      <td>58.4</td>\n      <td>17.9</td>\n    </tr>\n    <tr>\n      <th>5</th>\n      <td>8.7</td>\n      <td>48.9</td>\n      <td>75.0</td>\n      <td>7.2</td>\n    </tr>\n    <tr>\n      <th>...</th>\n      <td>...</td>\n      <td>...</td>\n      <td>...</td>\n      <td>...</td>\n    </tr>\n    <tr>\n      <th>193</th>\n      <td>166.8</td>\n      <td>42.0</td>\n      <td>3.6</td>\n      <td>19.6</td>\n    </tr>\n    <tr>\n      <th>194</th>\n      <td>149.7</td>\n      <td>35.6</td>\n      <td>6.0</td>\n      <td>17.3</td>\n    </tr>\n    <tr>\n      <th>195</th>\n      <td>38.2</td>\n      <td>3.7</td>\n      <td>13.8</td>\n      <td>7.6</td>\n    </tr>\n    <tr>\n      <th>196</th>\n      <td>94.2</td>\n      <td>4.9</td>\n      <td>8.1</td>\n      <td>14.0</td>\n    </tr>\n    <tr>\n      <th>197</th>\n      <td>177.0</td>\n      <td>9.3</td>\n      <td>6.4</td>\n      <td>14.8</td>\n    </tr>\n  </tbody>\n</table>\n<p>139 rows × 4 columns</p>\n</div>"
     },
     "metadata": {},
     "execution_count": 189
    }
   ],
   "source": [
    "ha = data[(data['TV']>210)]\n",
    "ha"
   ]
  },
  {
   "cell_type": "code",
   "execution_count": 80,
   "metadata": {},
   "outputs": [
    {
     "output_type": "execute_result",
     "data": {
      "text/plain": [
       "Sales    27.0\n",
       "dtype: float64"
      ]
     },
     "metadata": {},
     "execution_count": 80
    }
   ],
   "source": [
    "vente = data[['Sales']] #Q7\n",
    "vente.max() #max"
   ]
  },
  {
   "cell_type": "code",
   "execution_count": 81,
   "metadata": {},
   "outputs": [
    {
     "output_type": "execute_result",
     "data": {
      "text/plain": [
       "Sales    1.6\n",
       "dtype: float64"
      ]
     },
     "metadata": {},
     "execution_count": 81
    }
   ],
   "source": [
    "vente.min() #min"
   ]
  },
  {
   "cell_type": "code",
   "execution_count": 120,
   "metadata": {},
   "outputs": [
    {
     "output_type": "execute_result",
     "data": {
      "text/plain": [
       "<AxesSubplot:xlabel='Sales', ylabel='TV'>"
      ]
     },
     "metadata": {},
     "execution_count": 120
    },
    {
     "output_type": "display_data",
     "data": {
      "text/plain": "<Figure size 432x288 with 1 Axes>",
      "image/svg+xml": "<?xml version=\"1.0\" encoding=\"utf-8\" standalone=\"no\"?>\n<!DOCTYPE svg PUBLIC \"-//W3C//DTD SVG 1.1//EN\"\n  \"http://www.w3.org/Graphics/SVG/1.1/DTD/svg11.dtd\">\n<!-- Created with matplotlib (https://matplotlib.org/) -->\n<svg height=\"262.19625pt\" version=\"1.1\" viewBox=\"0 0 388.965625 262.19625\" width=\"388.965625pt\" xmlns=\"http://www.w3.org/2000/svg\" xmlns:xlink=\"http://www.w3.org/1999/xlink\">\n <metadata>\n  <rdf:RDF xmlns:cc=\"http://creativecommons.org/ns#\" xmlns:dc=\"http://purl.org/dc/elements/1.1/\" xmlns:rdf=\"http://www.w3.org/1999/02/22-rdf-syntax-ns#\">\n   <cc:Work>\n    <dc:type rdf:resource=\"http://purl.org/dc/dcmitype/StillImage\"/>\n    <dc:date>2021-02-25T12:55:38.217815</dc:date>\n    <dc:format>image/svg+xml</dc:format>\n    <dc:creator>\n     <cc:Agent>\n      <dc:title>Matplotlib v3.3.4, https://matplotlib.org/</dc:title>\n     </cc:Agent>\n    </dc:creator>\n   </cc:Work>\n  </rdf:RDF>\n </metadata>\n <defs>\n  <style type=\"text/css\">*{stroke-linecap:butt;stroke-linejoin:round;}</style>\n </defs>\n <g id=\"figure_1\">\n  <g id=\"patch_1\">\n   <path d=\"M -0 262.19625 \nL 388.965625 262.19625 \nL 388.965625 0 \nL -0 0 \nz\n\" style=\"fill:none;\"/>\n  </g>\n  <g id=\"axes_1\">\n   <g id=\"patch_2\">\n    <path d=\"M 46.965625 224.64 \nL 381.765625 224.64 \nL 381.765625 7.2 \nL 46.965625 7.2 \nz\n\" style=\"fill:#ffffff;\"/>\n   </g>\n   <g id=\"PathCollection_1\">\n    <defs>\n     <path d=\"M 0 2.236068 \nC 0.593012 2.236068 1.161816 2.000462 1.581139 1.581139 \nC 2.000462 1.161816 2.236068 0.593012 2.236068 0 \nC 2.236068 -0.593012 2.000462 -1.161816 1.581139 -1.581139 \nC 1.161816 -2.000462 0.593012 -2.236068 0 -2.236068 \nC -0.593012 -2.236068 -1.161816 -2.000462 -1.581139 -1.581139 \nC -2.000462 -1.161816 -2.236068 -0.593012 -2.236068 0 \nC -2.236068 0.593012 -2.000462 1.161816 -1.581139 1.581139 \nC -1.161816 2.000462 -0.593012 2.236068 0 2.236068 \nz\n\" id=\"me80ca678eb\" style=\"stroke:#1f77b4;\"/>\n    </defs>\n    <g clip-path=\"url(#p938c9a5f64)\">\n     <use style=\"fill:#1f77b4;stroke:#1f77b4;\" x=\"307.831624\" xlink:href=\"#me80ca678eb\" y=\"61.404576\"/>\n     <use style=\"fill:#1f77b4;stroke:#1f77b4;\" x=\"167.632626\" xlink:href=\"#me80ca678eb\" y=\"185.476467\"/>\n     <use style=\"fill:#1f77b4;stroke:#1f77b4;\" x=\"186.805138\" xlink:href=\"#me80ca678eb\" y=\"203.726266\"/>\n     <use style=\"fill:#1f77b4;stroke:#1f77b4;\" x=\"240.72783\" xlink:href=\"#me80ca678eb\" y=\"113.947952\"/>\n     <use style=\"fill:#1f77b4;stroke:#1f77b4;\" x=\"257.503778\" xlink:href=\"#me80ca678eb\" y=\"94.361172\"/>\n     <use style=\"fill:#1f77b4;stroke:#1f77b4;\" x=\"129.287601\" xlink:href=\"#me80ca678eb\" y=\"209.408437\"/>\n     <use style=\"fill:#1f77b4;stroke:#1f77b4;\" x=\"184.408574\" xlink:href=\"#me80ca678eb\" y=\"176.786087\"/>\n     <use style=\"fill:#1f77b4;stroke:#1f77b4;\" x=\"201.184523\" xlink:href=\"#me80ca678eb\" y=\"134.871714\"/>\n     <use style=\"fill:#1f77b4;stroke:#1f77b4;\" x=\"100.528832\" xlink:href=\"#me80ca678eb\" y=\"209.475286\"/>\n     <use style=\"fill:#1f77b4;stroke:#1f77b4;\" x=\"229.943291\" xlink:href=\"#me80ca678eb\" y=\"81.659847\"/>\n     <use style=\"fill:#1f77b4;stroke:#1f77b4;\" x=\"193.99483\" xlink:href=\"#me80ca678eb\" y=\"171.037066\"/>\n     <use style=\"fill:#1f77b4;stroke:#1f77b4;\" x=\"251.512368\" xlink:href=\"#me80ca678eb\" y=\"71.699334\"/>\n     <use style=\"fill:#1f77b4;stroke:#1f77b4;\" x=\"153.253241\" xlink:href=\"#me80ca678eb\" y=\"199.314226\"/>\n     <use style=\"fill:#1f77b4;stroke:#1f77b4;\" x=\"207.175933\" xlink:href=\"#me80ca678eb\" y=\"150.046455\"/>\n     <use style=\"fill:#1f77b4;stroke:#1f77b4;\" x=\"270.684881\" xlink:href=\"#me80ca678eb\" y=\"78.785336\"/>\n     <use style=\"fill:#1f77b4;stroke:#1f77b4;\" x=\"311.42647\" xlink:href=\"#me80ca678eb\" y=\"84.601206\"/>\n     <use style=\"fill:#1f77b4;stroke:#1f77b4;\" x=\"192.796548\" xlink:href=\"#me80ca678eb\" y=\"169.900631\"/>\n     <use style=\"fill:#1f77b4;stroke:#1f77b4;\" x=\"335.39211\" xlink:href=\"#me80ca678eb\" y=\"27.110998\"/>\n     <use style=\"fill:#1f77b4;stroke:#1f77b4;\" x=\"178.417164\" xlink:href=\"#me80ca678eb\" y=\"168.964744\"/>\n     <use style=\"fill:#1f77b4;stroke:#1f77b4;\" x=\"217.960471\" xlink:href=\"#me80ca678eb\" y=\"116.755613\"/>\n     <use style=\"fill:#1f77b4;stroke:#1f77b4;\" x=\"258.70206\" xlink:href=\"#me80ca678eb\" y=\"69.225918\"/>\n     <use style=\"fill:#1f77b4;stroke:#1f77b4;\" x=\"252.71065\" xlink:href=\"#me80ca678eb\" y=\"56.524593\"/>\n     <use style=\"fill:#1f77b4;stroke:#1f77b4;\" x=\"110.115088\" xlink:href=\"#me80ca678eb\" y=\"206.400229\"/>\n     <use style=\"fill:#1f77b4;stroke:#1f77b4;\" x=\"288.659111\" xlink:href=\"#me80ca678eb\" y=\"62.607859\"/>\n     <use style=\"fill:#1f77b4;stroke:#1f77b4;\" x=\"159.244651\" xlink:href=\"#me80ca678eb\" y=\"173.577331\"/>\n     <use style=\"fill:#1f77b4;stroke:#1f77b4;\" x=\"246.71924\" xlink:href=\"#me80ca678eb\" y=\"39.478078\"/>\n     <use style=\"fill:#1f77b4;stroke:#1f77b4;\" x=\"222.753599\" xlink:href=\"#me80ca678eb\" y=\"119.696973\"/>\n     <use style=\"fill:#1f77b4;stroke:#1f77b4;\" x=\"293.452239\" xlink:href=\"#me80ca678eb\" y=\"54.719668\"/>\n     <use style=\"fill:#1f77b4;stroke:#1f77b4;\" x=\"269.486599\" xlink:href=\"#me80ca678eb\" y=\"48.903798\"/>\n     <use style=\"fill:#1f77b4;stroke:#1f77b4;\" x=\"168.830908\" xlink:href=\"#me80ca678eb\" y=\"168.028857\"/>\n     <use style=\"fill:#1f77b4;stroke:#1f77b4;\" x=\"299.443649\" xlink:href=\"#me80ca678eb\" y=\"19.423354\"/>\n     <use style=\"fill:#1f77b4;stroke:#1f77b4;\" x=\"185.606856\" xlink:href=\"#me80ca678eb\" y=\"139.751697\"/>\n     <use style=\"fill:#1f77b4;stroke:#1f77b4;\" x=\"201.184523\" xlink:href=\"#me80ca678eb\" y=\"150.247002\"/>\n     <use style=\"fill:#1f77b4;stroke:#1f77b4;\" x=\"251.512368\" xlink:href=\"#me80ca678eb\" y=\"37.673153\"/>\n     <use style=\"fill:#1f77b4;stroke:#1f77b4;\" x=\"185.606856\" xlink:href=\"#me80ca678eb\" y=\"151.249738\"/>\n     <use style=\"fill:#1f77b4;stroke:#1f77b4;\" x=\"256.305496\" xlink:href=\"#me80ca678eb\" y=\"20.894034\"/>\n     <use style=\"fill:#1f77b4;stroke:#1f77b4;\" x=\"347.374931\" xlink:href=\"#me80ca678eb\" y=\"36.804115\"/>\n     <use style=\"fill:#1f77b4;stroke:#1f77b4;\" x=\"219.158753\" xlink:href=\"#me80ca678eb\" y=\"165.288045\"/>\n     <use style=\"fill:#1f77b4;stroke:#1f77b4;\" x=\"164.03778\" xlink:href=\"#me80ca678eb\" y=\"186.412354\"/>\n     <use style=\"fill:#1f77b4;stroke:#1f77b4;\" x=\"300.641931\" xlink:href=\"#me80ca678eb\" y=\"62.808407\"/>\n     <use style=\"fill:#1f77b4;stroke:#1f77b4;\" x=\"241.926112\" xlink:href=\"#me80ca678eb\" y=\"79.854922\"/>\n     <use style=\"fill:#1f77b4;stroke:#1f77b4;\" x=\"247.917522\" xlink:href=\"#me80ca678eb\" y=\"96.901437\"/>\n     <use style=\"fill:#1f77b4;stroke:#1f77b4;\" x=\"291.055675\" xlink:href=\"#me80ca678eb\" y=\"18.955411\"/>\n     <use style=\"fill:#1f77b4;stroke:#1f77b4;\" x=\"257.503778\" xlink:href=\"#me80ca678eb\" y=\"76.913562\"/>\n     <use style=\"fill:#1f77b4;stroke:#1f77b4;\" x=\"144.865267\" xlink:href=\"#me80ca678eb\" y=\"198.445188\"/>\n     <use style=\"fill:#1f77b4;stroke:#1f77b4;\" x=\"235.934702\" xlink:href=\"#me80ca678eb\" y=\"98.171569\"/>\n     <use style=\"fill:#1f77b4;stroke:#1f77b4;\" x=\"170.02919\" xlink:href=\"#me80ca678eb\" y=\"155.260683\"/>\n     <use style=\"fill:#1f77b4;stroke:#1f77b4;\" x=\"321.012726\" xlink:href=\"#me80ca678eb\" y=\"54.853366\"/>\n     <use style=\"fill:#1f77b4;stroke:#1f77b4;\" x=\"280.271137\" xlink:href=\"#me80ca678eb\" y=\"63.343199\"/>\n     <use style=\"fill:#1f77b4;stroke:#1f77b4;\" x=\"159.244651\" xlink:href=\"#me80ca678eb\" y=\"170.502273\"/>\n     <use style=\"fill:#1f77b4;stroke:#1f77b4;\" x=\"239.529548\" xlink:href=\"#me80ca678eb\" y=\"81.659847\"/>\n     <use style=\"fill:#1f77b4;stroke:#1f77b4;\" x=\"171.227472\" xlink:href=\"#me80ca678eb\" y=\"148.107832\"/>\n     <use style=\"fill:#1f77b4;stroke:#1f77b4;\" x=\"313.823034\" xlink:href=\"#me80ca678eb\" y=\"70.5629\"/>\n     <use style=\"fill:#1f77b4;stroke:#1f77b4;\" x=\"297.047085\" xlink:href=\"#me80ca678eb\" y=\"93.157889\"/>\n     <use style=\"fill:#1f77b4;stroke:#1f77b4;\" x=\"285.064265\" xlink:href=\"#me80ca678eb\" y=\"39.611776\"/>\n     <use style=\"fill:#1f77b4;stroke:#1f77b4;\" x=\"327.004136\" xlink:href=\"#me80ca678eb\" y=\"82.261489\"/>\n     <use style=\"fill:#1f77b4;stroke:#1f77b4;\" x=\"108.916806\" xlink:href=\"#me80ca678eb\" y=\"210.344324\"/>\n     <use style=\"fill:#1f77b4;stroke:#1f77b4;\" x=\"201.184523\" xlink:href=\"#me80ca678eb\" y=\"124.175861\"/>\n     <use style=\"fill:#1f77b4;stroke:#1f77b4;\" x=\"328.202418\" xlink:href=\"#me80ca678eb\" y=\"74.306448\"/>\n     <use style=\"fill:#1f77b4;stroke:#1f77b4;\" x=\"263.495188\" xlink:href=\"#me80ca678eb\" y=\"74.373297\"/>\n     <use style=\"fill:#1f77b4;stroke:#1f77b4;\" x=\"140.072139\" xlink:href=\"#me80ca678eb\" y=\"179.46005\"/>\n     <use style=\"fill:#1f77b4;stroke:#1f77b4;\" x=\"332.995546\" xlink:href=\"#me80ca678eb\" y=\"40.547663\"/>\n     <use style=\"fill:#1f77b4;stroke:#1f77b4;\" x=\"291.055675\" xlink:href=\"#me80ca678eb\" y=\"55.254461\"/>\n     <use style=\"fill:#1f77b4;stroke:#1f77b4;\" x=\"210.770779\" xlink:href=\"#me80ca678eb\" y=\"146.570303\"/>\n     <use style=\"fill:#1f77b4;stroke:#1f77b4;\" x=\"234.73642\" xlink:href=\"#me80ca678eb\" y=\"127.585164\"/>\n     <use style=\"fill:#1f77b4;stroke:#1f77b4;\" x=\"178.417164\" xlink:href=\"#me80ca678eb\" y=\"169.098443\"/>\n     <use style=\"fill:#1f77b4;stroke:#1f77b4;\" x=\"174.822318\" xlink:href=\"#me80ca678eb\" y=\"194.166847\"/>\n     <use style=\"fill:#1f77b4;stroke:#1f77b4;\" x=\"203.581087\" xlink:href=\"#me80ca678eb\" y=\"122.10354\"/>\n     <use style=\"fill:#1f77b4;stroke:#1f77b4;\" x=\"269.486599\" xlink:href=\"#me80ca678eb\" y=\"56.524593\"/>\n     <use style=\"fill:#1f77b4;stroke:#1f77b4;\" x=\"310.228188\" xlink:href=\"#me80ca678eb\" y=\"70.295503\"/>\n     <use style=\"fill:#1f77b4;stroke:#1f77b4;\" x=\"262.296906\" xlink:href=\"#me80ca678eb\" y=\"82.12779\"/>\n     <use style=\"fill:#1f77b4;stroke:#1f77b4;\" x=\"191.598266\" xlink:href=\"#me80ca678eb\" y=\"141.824018\"/>\n     <use style=\"fill:#1f77b4;stroke:#1f77b4;\" x=\"148.460113\" xlink:href=\"#me80ca678eb\" y=\"197.308754\"/>\n     <use style=\"fill:#1f77b4;stroke:#1f77b4;\" x=\"174.822318\" xlink:href=\"#me80ca678eb\" y=\"128.721599\"/>\n     <use style=\"fill:#1f77b4;stroke:#1f77b4;\" x=\"246.71924\" xlink:href=\"#me80ca678eb\" y=\"72.568372\"/>\n     <use style=\"fill:#1f77b4;stroke:#1f77b4;\" x=\"147.261831\" xlink:href=\"#me80ca678eb\" y=\"203.926813\"/>\n     <use style=\"fill:#1f77b4;stroke:#1f77b4;\" x=\"125.692755\" xlink:href=\"#me80ca678eb\" y=\"196.84081\"/>\n     <use style=\"fill:#1f77b4;stroke:#1f77b4;\" x=\"213.167343\" xlink:href=\"#me80ca678eb\" y=\"134.671167\"/>\n     <use style=\"fill:#1f77b4;stroke:#1f77b4;\" x=\"106.520242\" xlink:href=\"#me80ca678eb\" y=\"211.614457\"/>\n     <use style=\"fill:#1f77b4;stroke:#1f77b4;\" x=\"174.822318\" xlink:href=\"#me80ca678eb\" y=\"137.679375\"/>\n     <use style=\"fill:#1f77b4;stroke:#1f77b4;\" x=\"184.408574\" xlink:href=\"#me80ca678eb\" y=\"164.151611\"/>\n     <use style=\"fill:#1f77b4;stroke:#1f77b4;\" x=\"250.314086\" xlink:href=\"#me80ca678eb\" y=\"54.920215\"/>\n     <use style=\"fill:#1f77b4;stroke:#1f77b4;\" x=\"178.417164\" xlink:href=\"#me80ca678eb\" y=\"164.886951\"/>\n     <use style=\"fill:#1f77b4;stroke:#1f77b4;\" x=\"205.977651\" xlink:href=\"#me80ca678eb\" y=\"169.499537\"/>\n     <use style=\"fill:#1f77b4;stroke:#1f77b4;\" x=\"303.038495\" xlink:href=\"#me80ca678eb\" y=\"72.501523\"/>\n     <use style=\"fill:#1f77b4;stroke:#1f77b4;\" x=\"285.064265\" xlink:href=\"#me80ca678eb\" y=\"86.071886\"/>\n     <use style=\"fill:#1f77b4;stroke:#1f77b4;\" x=\"186.805138\" xlink:href=\"#me80ca678eb\" y=\"164.21846\"/>\n     <use style=\"fill:#1f77b4;stroke:#1f77b4;\" x=\"234.73642\" xlink:href=\"#me80ca678eb\" y=\"141.222376\"/>\n     <use style=\"fill:#1f77b4;stroke:#1f77b4;\" x=\"197.589677\" xlink:href=\"#me80ca678eb\" y=\"156.19657\"/>\n     <use style=\"fill:#1f77b4;stroke:#1f77b4;\" x=\"243.124394\" xlink:href=\"#me80ca678eb\" y=\"141.824018\"/>\n     <use style=\"fill:#1f77b4;stroke:#1f77b4;\" x=\"210.770779\" xlink:href=\"#me80ca678eb\" y=\"125.445994\"/>\n     <use style=\"fill:#1f77b4;stroke:#1f77b4;\" x=\"130.485883\" xlink:href=\"#me80ca678eb\" y=\"196.105471\"/>\n     <use style=\"fill:#1f77b4;stroke:#1f77b4;\" x=\"275.478009\" xlink:href=\"#me80ca678eb\" y=\"69.693862\"/>\n     <use style=\"fill:#1f77b4;stroke:#1f77b4;\" x=\"309.029906\" xlink:href=\"#me80ca678eb\" y=\"47.499967\"/>\n     <use style=\"fill:#1f77b4;stroke:#1f77b4;\" x=\"180.813728\" xlink:href=\"#me80ca678eb\" y=\"143.428396\"/>\n     <use style=\"fill:#1f77b4;stroke:#1f77b4;\" x=\"245.520958\" xlink:href=\"#me80ca678eb\" y=\"106.059761\"/>\n     <use style=\"fill:#1f77b4;stroke:#1f77b4;\" x=\"243.124394\" xlink:href=\"#me80ca678eb\" y=\"83.130527\"/>\n     <use style=\"fill:#1f77b4;stroke:#1f77b4;\" x=\"288.659111\" xlink:href=\"#me80ca678eb\" y=\"91.62036\"/>\n     <use style=\"fill:#1f77b4;stroke:#1f77b4;\" x=\"347.374931\" xlink:href=\"#me80ca678eb\" y=\"21.562525\"/>\n     <use style=\"fill:#1f77b4;stroke:#1f77b4;\" x=\"249.115804\" xlink:href=\"#me80ca678eb\" y=\"124.844352\"/>\n     <use style=\"fill:#1f77b4;stroke:#1f77b4;\" x=\"243.124394\" xlink:href=\"#me80ca678eb\" y=\"66.551955\"/>\n     <use style=\"fill:#1f77b4;stroke:#1f77b4;\" x=\"328.202418\" xlink:href=\"#me80ca678eb\" y=\"17.083636\"/>\n     <use style=\"fill:#1f77b4;stroke:#1f77b4;\" x=\"280.271137\" xlink:href=\"#me80ca678eb\" y=\"27.913187\"/>\n     <use style=\"fill:#1f77b4;stroke:#1f77b4;\" x=\"279.072855\" xlink:href=\"#me80ca678eb\" y=\"89.614887\"/>\n     <use style=\"fill:#1f77b4;stroke:#1f77b4;\" x=\"291.055675\" xlink:href=\"#me80ca678eb\" y=\"55.9898\"/>\n     <use style=\"fill:#1f77b4;stroke:#1f77b4;\" x=\"222.753599\" xlink:href=\"#me80ca678eb\" y=\"123.039427\"/>\n     <use style=\"fill:#1f77b4;stroke:#1f77b4;\" x=\"129.287601\" xlink:href=\"#me80ca678eb\" y=\"198.512037\"/>\n     <use style=\"fill:#1f77b4;stroke:#1f77b4;\" x=\"186.805138\" xlink:href=\"#me80ca678eb\" y=\"154.79274\"/>\n     <use style=\"fill:#1f77b4;stroke:#1f77b4;\" x=\"106.520242\" xlink:href=\"#me80ca678eb\" y=\"206.467078\"/>\n     <use style=\"fill:#1f77b4;stroke:#1f77b4;\" x=\"280.271137\" xlink:href=\"#me80ca678eb\" y=\"44.491759\"/>\n     <use style=\"fill:#1f77b4;stroke:#1f77b4;\" x=\"263.495188\" xlink:href=\"#me80ca678eb\" y=\"64.279086\"/>\n     <use style=\"fill:#1f77b4;stroke:#1f77b4;\" x=\"304.236777\" xlink:href=\"#me80ca678eb\" y=\"53.650083\"/>\n     <use style=\"fill:#1f77b4;stroke:#1f77b4;\" x=\"247.917522\" xlink:href=\"#me80ca678eb\" y=\"97.770475\"/>\n     <use style=\"fill:#1f77b4;stroke:#1f77b4;\" x=\"293.452239\" xlink:href=\"#me80ca678eb\" y=\"75.108637\"/>\n     <use style=\"fill:#1f77b4;stroke:#1f77b4;\" x=\"217.960471\" xlink:href=\"#me80ca678eb\" y=\"162.948327\"/>\n     <use style=\"fill:#1f77b4;stroke:#1f77b4;\" x=\"193.99483\" xlink:href=\"#me80ca678eb\" y=\"165.020649\"/>\n     <use style=\"fill:#1f77b4;stroke:#1f77b4;\" x=\"189.201702\" xlink:href=\"#me80ca678eb\" y=\"122.170389\"/>\n     <use style=\"fill:#1f77b4;stroke:#1f77b4;\" x=\"155.649805\" xlink:href=\"#me80ca678eb\" y=\"164.151611\"/>\n     <use style=\"fill:#1f77b4;stroke:#1f77b4;\" x=\"233.538138\" xlink:href=\"#me80ca678eb\" y=\"131.195015\"/>\n     <use style=\"fill:#1f77b4;stroke:#1f77b4;\" x=\"122.097908\" xlink:href=\"#me80ca678eb\" y=\"202.255586\"/>\n     <use style=\"fill:#1f77b4;stroke:#1f77b4;\" x=\"228.745009\" xlink:href=\"#me80ca678eb\" y=\"120.766558\"/>\n     <use style=\"fill:#1f77b4;stroke:#1f77b4;\" x=\"126.891037\" xlink:href=\"#me80ca678eb\" y=\"202.65668\"/>\n     <use style=\"fill:#1f77b4;stroke:#1f77b4;\" x=\"241.926112\" xlink:href=\"#me80ca678eb\" y=\"65.48237\"/>\n     <use style=\"fill:#1f77b4;stroke:#1f77b4;\" x=\"225.150163\" xlink:href=\"#me80ca678eb\" y=\"132.933091\"/>\n     <use style=\"fill:#1f77b4;stroke:#1f77b4;\" x=\"279.072855\" xlink:href=\"#me80ca678eb\" y=\"61.80567\"/>\n     <use style=\"fill:#1f77b4;stroke:#1f77b4;\" x=\"170.02919\" xlink:href=\"#me80ca678eb\" y=\"156.93191\"/>\n     <use style=\"fill:#1f77b4;stroke:#1f77b4;\" x=\"122.097908\" xlink:href=\"#me80ca678eb\" y=\"210.010079\"/>\n     <use style=\"fill:#1f77b4;stroke:#1f77b4;\" x=\"185.606856\" xlink:href=\"#me80ca678eb\" y=\"161.611346\"/>\n     <use style=\"fill:#1f77b4;stroke:#1f77b4;\" x=\"338.986956\" xlink:href=\"#me80ca678eb\" y=\"67.955786\"/>\n     <use style=\"fill:#1f77b4;stroke:#1f77b4;\" x=\"159.244651\" xlink:href=\"#me80ca678eb\" y=\"175.382256\"/>\n     <use style=\"fill:#1f77b4;stroke:#1f77b4;\" x=\"62.183807\" xlink:href=\"#me80ca678eb\" y=\"214.756364\"/>\n     <use style=\"fill:#1f77b4;stroke:#1f77b4;\" x=\"255.107214\" xlink:href=\"#me80ca678eb\" y=\"37.940549\"/>\n     <use style=\"fill:#1f77b4;stroke:#1f77b4;\" x=\"111.31337\" xlink:href=\"#me80ca678eb\" y=\"209.608985\"/>\n     <use style=\"fill:#1f77b4;stroke:#1f77b4;\" x=\"277.874573\" xlink:href=\"#me80ca678eb\" y=\"68.290031\"/>\n     <use style=\"fill:#1f77b4;stroke:#1f77b4;\" x=\"172.425754\" xlink:href=\"#me80ca678eb\" y=\"190.556997\"/>\n     <use style=\"fill:#1f77b4;stroke:#1f77b4;\" x=\"182.01201\" xlink:href=\"#me80ca678eb\" y=\"182.936202\"/>\n     <use style=\"fill:#1f77b4;stroke:#1f77b4;\" x=\"156.848087\" xlink:href=\"#me80ca678eb\" y=\"198.110943\"/>\n     <use style=\"fill:#1f77b4;stroke:#1f77b4;\" x=\"292.253957\" xlink:href=\"#me80ca678eb\" y=\"32.258377\"/>\n     <use style=\"fill:#1f77b4;stroke:#1f77b4;\" x=\"158.046369\" xlink:href=\"#me80ca678eb\" y=\"186.479203\"/>\n     <use style=\"fill:#1f77b4;stroke:#1f77b4;\" x=\"291.055675\" xlink:href=\"#me80ca678eb\" y=\"91.62036\"/>\n     <use style=\"fill:#1f77b4;stroke:#1f77b4;\" x=\"173.624036\" xlink:href=\"#me80ca678eb\" y=\"166.157083\"/>\n     <use style=\"fill:#1f77b4;stroke:#1f77b4;\" x=\"273.081445\" xlink:href=\"#me80ca678eb\" y=\"85.737641\"/>\n     <use style=\"fill:#1f77b4;stroke:#1f77b4;\" x=\"283.865983\" xlink:href=\"#me80ca678eb\" y=\"67.822087\"/>\n     <use style=\"fill:#1f77b4;stroke:#1f77b4;\" x=\"167.632626\" xlink:href=\"#me80ca678eb\" y=\"145.30017\"/>\n     <use style=\"fill:#1f77b4;stroke:#1f77b4;\" x=\"190.399984\" xlink:href=\"#me80ca678eb\" y=\"150.915493\"/>\n     <use style=\"fill:#1f77b4;stroke:#1f77b4;\" x=\"166.434344\" xlink:href=\"#me80ca678eb\" y=\"121.435049\"/>\n     <use style=\"fill:#1f77b4;stroke:#1f77b4;\" x=\"261.098624\" xlink:href=\"#me80ca678eb\" y=\"54.719668\"/>\n     <use style=\"fill:#1f77b4;stroke:#1f77b4;\" x=\"347.374931\" xlink:href=\"#me80ca678eb\" y=\"52.647347\"/>\n     <use style=\"fill:#1f77b4;stroke:#1f77b4;\" x=\"173.624036\" xlink:href=\"#me80ca678eb\" y=\"189.821657\"/>\n     <use style=\"fill:#1f77b4;stroke:#1f77b4;\" x=\"164.03778\" xlink:href=\"#me80ca678eb\" y=\"185.342769\"/>\n     <use style=\"fill:#1f77b4;stroke:#1f77b4;\" x=\"235.934702\" xlink:href=\"#me80ca678eb\" y=\"27.578942\"/>\n     <use style=\"fill:#1f77b4;stroke:#1f77b4;\" x=\"182.01201\" xlink:href=\"#me80ca678eb\" y=\"134.336921\"/>\n     <use style=\"fill:#1f77b4;stroke:#1f77b4;\" x=\"241.926112\" xlink:href=\"#me80ca678eb\" y=\"83.130527\"/>\n     <use style=\"fill:#1f77b4;stroke:#1f77b4;\" x=\"234.73642\" xlink:href=\"#me80ca678eb\" y=\"100.711834\"/>\n     <use style=\"fill:#1f77b4;stroke:#1f77b4;\" x=\"289.857393\" xlink:href=\"#me80ca678eb\" y=\"89.681736\"/>\n     <use style=\"fill:#1f77b4;stroke:#1f77b4;\" x=\"81.356319\" xlink:href=\"#me80ca678eb\" y=\"212.483495\"/>\n     <use style=\"fill:#1f77b4;stroke:#1f77b4;\" x=\"226.348445\" xlink:href=\"#me80ca678eb\" y=\"152.453022\"/>\n     <use style=\"fill:#1f77b4;stroke:#1f77b4;\" x=\"164.03778\" xlink:href=\"#me80ca678eb\" y=\"115.084387\"/>\n     <use style=\"fill:#1f77b4;stroke:#1f77b4;\" x=\"130.485883\" xlink:href=\"#me80ca678eb\" y=\"207.402965\"/>\n     <use style=\"fill:#1f77b4;stroke:#1f77b4;\" x=\"197.589677\" xlink:href=\"#me80ca678eb\" y=\"127.18407\"/>\n     <use style=\"fill:#1f77b4;stroke:#1f77b4;\" x=\"239.529548\" xlink:href=\"#me80ca678eb\" y=\"99.909646\"/>\n     <use style=\"fill:#1f77b4;stroke:#1f77b4;\" x=\"202.382805\" xlink:href=\"#me80ca678eb\" y=\"157.934646\"/>\n     <use style=\"fill:#1f77b4;stroke:#1f77b4;\" x=\"281.469419\" xlink:href=\"#me80ca678eb\" y=\"89.280642\"/>\n     <use style=\"fill:#1f77b4;stroke:#1f77b4;\" x=\"258.70206\" xlink:href=\"#me80ca678eb\" y=\"105.926063\"/>\n     <use style=\"fill:#1f77b4;stroke:#1f77b4;\" x=\"185.606856\" xlink:href=\"#me80ca678eb\" y=\"136.877186\"/>\n     <use style=\"fill:#1f77b4;stroke:#1f77b4;\" x=\"245.520958\" xlink:href=\"#me80ca678eb\" y=\"58.463216\"/>\n     <use style=\"fill:#1f77b4;stroke:#1f77b4;\" x=\"138.873857\" xlink:href=\"#me80ca678eb\" y=\"203.258322\"/>\n     <use style=\"fill:#1f77b4;stroke:#1f77b4;\" x=\"249.115804\" xlink:href=\"#me80ca678eb\" y=\"76.980411\"/>\n     <use style=\"fill:#1f77b4;stroke:#1f77b4;\" x=\"247.917522\" xlink:href=\"#me80ca678eb\" y=\"71.231391\"/>\n     <use style=\"fill:#1f77b4;stroke:#1f77b4;\" x=\"282.667701\" xlink:href=\"#me80ca678eb\" y=\"25.172375\"/>\n     <use style=\"fill:#1f77b4;stroke:#1f77b4;\" x=\"143.666985\" xlink:href=\"#me80ca678eb\" y=\"181.799768\"/>\n     <use style=\"fill:#1f77b4;stroke:#1f77b4;\" x=\"252.71065\" xlink:href=\"#me80ca678eb\" y=\"105.257572\"/>\n     <use style=\"fill:#1f77b4;stroke:#1f77b4;\" x=\"134.080729\" xlink:href=\"#me80ca678eb\" y=\"202.121888\"/>\n     <use style=\"fill:#1f77b4;stroke:#1f77b4;\" x=\"243.124394\" xlink:href=\"#me80ca678eb\" y=\"102.650458\"/>\n     <use style=\"fill:#1f77b4;stroke:#1f77b4;\" x=\"240.72783\" xlink:href=\"#me80ca678eb\" y=\"66.551955\"/>\n     <use style=\"fill:#1f77b4;stroke:#1f77b4;\" x=\"366.547443\" xlink:href=\"#me80ca678eb\" y=\"30.119207\"/>\n     <use style=\"fill:#1f77b4;stroke:#1f77b4;\" x=\"285.064265\" xlink:href=\"#me80ca678eb\" y=\"49.171194\"/>\n     <use style=\"fill:#1f77b4;stroke:#1f77b4;\" x=\"243.124394\" xlink:href=\"#me80ca678eb\" y=\"101.447174\"/>\n     <use style=\"fill:#1f77b4;stroke:#1f77b4;\" x=\"244.322676\" xlink:href=\"#me80ca678eb\" y=\"30.252905\"/>\n     <use style=\"fill:#1f77b4;stroke:#1f77b4;\" x=\"253.908932\" xlink:href=\"#me80ca678eb\" y=\"104.522232\"/>\n     <use style=\"fill:#1f77b4;stroke:#1f77b4;\" x=\"228.745009\" xlink:href=\"#me80ca678eb\" y=\"110.538649\"/>\n     <use style=\"fill:#1f77b4;stroke:#1f77b4;\" x=\"249.115804\" xlink:href=\"#me80ca678eb\" y=\"69.159069\"/>\n     <use style=\"fill:#1f77b4;stroke:#1f77b4;\" x=\"147.261831\" xlink:href=\"#me80ca678eb\" y=\"177.655125\"/>\n     <use style=\"fill:#1f77b4;stroke:#1f77b4;\" x=\"356.961187\" xlink:href=\"#me80ca678eb\" y=\"22.966355\"/>\n     <use style=\"fill:#1f77b4;stroke:#1f77b4;\" x=\"253.908932\" xlink:href=\"#me80ca678eb\" y=\"45.561344\"/>\n     <use style=\"fill:#1f77b4;stroke:#1f77b4;\" x=\"313.823034\" xlink:href=\"#me80ca678eb\" y=\"78.183695\"/>\n     <use style=\"fill:#1f77b4;stroke:#1f77b4;\" x=\"166.434344\" xlink:href=\"#me80ca678eb\" y=\"121.969842\"/>\n     <use style=\"fill:#1f77b4;stroke:#1f77b4;\" x=\"250.314086\" xlink:href=\"#me80ca678eb\" y=\"87.475717\"/>\n     <use style=\"fill:#1f77b4;stroke:#1f77b4;\" x=\"293.452239\" xlink:href=\"#me80ca678eb\" y=\"24.035941\"/>\n     <use style=\"fill:#1f77b4;stroke:#1f77b4;\" x=\"123.29619\" xlink:href=\"#me80ca678eb\" y=\"202.723529\"/>\n     <use style=\"fill:#1f77b4;stroke:#1f77b4;\" x=\"172.425754\" xlink:href=\"#me80ca678eb\" y=\"188.818921\"/>\n     <use style=\"fill:#1f77b4;stroke:#1f77b4;\" x=\"185.606856\" xlink:href=\"#me80ca678eb\" y=\"164.753252\"/>\n     <use style=\"fill:#1f77b4;stroke:#1f77b4;\" x=\"113.709934\" xlink:href=\"#me80ca678eb\" y=\"203.726266\"/>\n     <use style=\"fill:#1f77b4;stroke:#1f77b4;\" x=\"277.874573\" xlink:href=\"#me80ca678eb\" y=\"103.720043\"/>\n     <use style=\"fill:#1f77b4;stroke:#1f77b4;\" x=\"250.314086\" xlink:href=\"#me80ca678eb\" y=\"115.151236\"/>\n     <use style=\"fill:#1f77b4;stroke:#1f77b4;\" x=\"134.080729\" xlink:href=\"#me80ca678eb\" y=\"189.687959\"/>\n     <use style=\"fill:#1f77b4;stroke:#1f77b4;\" x=\"210.770779\" xlink:href=\"#me80ca678eb\" y=\"152.252475\"/>\n     <use style=\"fill:#1f77b4;stroke:#1f77b4;\" x=\"220.357035\" xlink:href=\"#me80ca678eb\" y=\"96.901437\"/>\n     <use style=\"fill:#1f77b4;stroke:#1f77b4;\" x=\"348.573213\" xlink:href=\"#me80ca678eb\" y=\"25.640319\"/>\n     <use style=\"fill:#1f77b4;stroke:#1f77b4;\" x=\"263.495188\" xlink:href=\"#me80ca678eb\" y=\"60.067594\"/>\n    </g>\n   </g>\n   <g id=\"matplotlib.axis_1\">\n    <g id=\"xtick_1\">\n     <g id=\"line2d_1\">\n      <defs>\n       <path d=\"M 0 0 \nL 0 3.5 \n\" id=\"m1fcd8a4716\" style=\"stroke:#000000;stroke-width:0.8;\"/>\n      </defs>\n      <g>\n       <use style=\"stroke:#000000;stroke-width:0.8;\" x=\"102.925396\" xlink:href=\"#m1fcd8a4716\" y=\"224.64\"/>\n      </g>\n     </g>\n     <g id=\"text_1\">\n      <!-- 5 -->\n      <g transform=\"translate(99.744146 239.238438)scale(0.1 -0.1)\">\n       <defs>\n        <path d=\"M 10.796875 72.90625 \nL 49.515625 72.90625 \nL 49.515625 64.59375 \nL 19.828125 64.59375 \nL 19.828125 46.734375 \nQ 21.96875 47.46875 24.109375 47.828125 \nQ 26.265625 48.1875 28.421875 48.1875 \nQ 40.625 48.1875 47.75 41.5 \nQ 54.890625 34.8125 54.890625 23.390625 \nQ 54.890625 11.625 47.5625 5.09375 \nQ 40.234375 -1.421875 26.90625 -1.421875 \nQ 22.3125 -1.421875 17.546875 -0.640625 \nQ 12.796875 0.140625 7.71875 1.703125 \nL 7.71875 11.625 \nQ 12.109375 9.234375 16.796875 8.0625 \nQ 21.484375 6.890625 26.703125 6.890625 \nQ 35.15625 6.890625 40.078125 11.328125 \nQ 45.015625 15.765625 45.015625 23.390625 \nQ 45.015625 31 40.078125 35.4375 \nQ 35.15625 39.890625 26.703125 39.890625 \nQ 22.75 39.890625 18.8125 39.015625 \nQ 14.890625 38.140625 10.796875 36.28125 \nz\n\" id=\"DejaVuSans-53\"/>\n       </defs>\n       <use xlink:href=\"#DejaVuSans-53\"/>\n      </g>\n     </g>\n    </g>\n    <g id=\"xtick_2\">\n     <g id=\"line2d_2\">\n      <g>\n       <use style=\"stroke:#000000;stroke-width:0.8;\" x=\"162.839498\" xlink:href=\"#m1fcd8a4716\" y=\"224.64\"/>\n      </g>\n     </g>\n     <g id=\"text_2\">\n      <!-- 10 -->\n      <g transform=\"translate(156.476998 239.238438)scale(0.1 -0.1)\">\n       <defs>\n        <path d=\"M 12.40625 8.296875 \nL 28.515625 8.296875 \nL 28.515625 63.921875 \nL 10.984375 60.40625 \nL 10.984375 69.390625 \nL 28.421875 72.90625 \nL 38.28125 72.90625 \nL 38.28125 8.296875 \nL 54.390625 8.296875 \nL 54.390625 0 \nL 12.40625 0 \nz\n\" id=\"DejaVuSans-49\"/>\n        <path d=\"M 31.78125 66.40625 \nQ 24.171875 66.40625 20.328125 58.90625 \nQ 16.5 51.421875 16.5 36.375 \nQ 16.5 21.390625 20.328125 13.890625 \nQ 24.171875 6.390625 31.78125 6.390625 \nQ 39.453125 6.390625 43.28125 13.890625 \nQ 47.125 21.390625 47.125 36.375 \nQ 47.125 51.421875 43.28125 58.90625 \nQ 39.453125 66.40625 31.78125 66.40625 \nz\nM 31.78125 74.21875 \nQ 44.046875 74.21875 50.515625 64.515625 \nQ 56.984375 54.828125 56.984375 36.375 \nQ 56.984375 17.96875 50.515625 8.265625 \nQ 44.046875 -1.421875 31.78125 -1.421875 \nQ 19.53125 -1.421875 13.0625 8.265625 \nQ 6.59375 17.96875 6.59375 36.375 \nQ 6.59375 54.828125 13.0625 64.515625 \nQ 19.53125 74.21875 31.78125 74.21875 \nz\n\" id=\"DejaVuSans-48\"/>\n       </defs>\n       <use xlink:href=\"#DejaVuSans-49\"/>\n       <use x=\"63.623047\" xlink:href=\"#DejaVuSans-48\"/>\n      </g>\n     </g>\n    </g>\n    <g id=\"xtick_3\">\n     <g id=\"line2d_3\">\n      <g>\n       <use style=\"stroke:#000000;stroke-width:0.8;\" x=\"222.753599\" xlink:href=\"#m1fcd8a4716\" y=\"224.64\"/>\n      </g>\n     </g>\n     <g id=\"text_3\">\n      <!-- 15 -->\n      <g transform=\"translate(216.391099 239.238438)scale(0.1 -0.1)\">\n       <use xlink:href=\"#DejaVuSans-49\"/>\n       <use x=\"63.623047\" xlink:href=\"#DejaVuSans-53\"/>\n      </g>\n     </g>\n    </g>\n    <g id=\"xtick_4\">\n     <g id=\"line2d_4\">\n      <g>\n       <use style=\"stroke:#000000;stroke-width:0.8;\" x=\"282.667701\" xlink:href=\"#m1fcd8a4716\" y=\"224.64\"/>\n      </g>\n     </g>\n     <g id=\"text_4\">\n      <!-- 20 -->\n      <g transform=\"translate(276.305201 239.238438)scale(0.1 -0.1)\">\n       <defs>\n        <path d=\"M 19.1875 8.296875 \nL 53.609375 8.296875 \nL 53.609375 0 \nL 7.328125 0 \nL 7.328125 8.296875 \nQ 12.9375 14.109375 22.625 23.890625 \nQ 32.328125 33.6875 34.8125 36.53125 \nQ 39.546875 41.84375 41.421875 45.53125 \nQ 43.3125 49.21875 43.3125 52.78125 \nQ 43.3125 58.59375 39.234375 62.25 \nQ 35.15625 65.921875 28.609375 65.921875 \nQ 23.96875 65.921875 18.8125 64.3125 \nQ 13.671875 62.703125 7.8125 59.421875 \nL 7.8125 69.390625 \nQ 13.765625 71.78125 18.9375 73 \nQ 24.125 74.21875 28.421875 74.21875 \nQ 39.75 74.21875 46.484375 68.546875 \nQ 53.21875 62.890625 53.21875 53.421875 \nQ 53.21875 48.921875 51.53125 44.890625 \nQ 49.859375 40.875 45.40625 35.40625 \nQ 44.1875 33.984375 37.640625 27.21875 \nQ 31.109375 20.453125 19.1875 8.296875 \nz\n\" id=\"DejaVuSans-50\"/>\n       </defs>\n       <use xlink:href=\"#DejaVuSans-50\"/>\n       <use x=\"63.623047\" xlink:href=\"#DejaVuSans-48\"/>\n      </g>\n     </g>\n    </g>\n    <g id=\"xtick_5\">\n     <g id=\"line2d_5\">\n      <g>\n       <use style=\"stroke:#000000;stroke-width:0.8;\" x=\"342.581803\" xlink:href=\"#m1fcd8a4716\" y=\"224.64\"/>\n      </g>\n     </g>\n     <g id=\"text_5\">\n      <!-- 25 -->\n      <g transform=\"translate(336.219303 239.238438)scale(0.1 -0.1)\">\n       <use xlink:href=\"#DejaVuSans-50\"/>\n       <use x=\"63.623047\" xlink:href=\"#DejaVuSans-53\"/>\n      </g>\n     </g>\n    </g>\n    <g id=\"text_6\">\n     <!-- Sales -->\n     <g transform=\"translate(201.057031 252.916563)scale(0.1 -0.1)\">\n      <defs>\n       <path d=\"M 53.515625 70.515625 \nL 53.515625 60.890625 \nQ 47.90625 63.578125 42.921875 64.890625 \nQ 37.9375 66.21875 33.296875 66.21875 \nQ 25.25 66.21875 20.875 63.09375 \nQ 16.5 59.96875 16.5 54.203125 \nQ 16.5 49.359375 19.40625 46.890625 \nQ 22.3125 44.4375 30.421875 42.921875 \nL 36.375 41.703125 \nQ 47.40625 39.59375 52.65625 34.296875 \nQ 57.90625 29 57.90625 20.125 \nQ 57.90625 9.515625 50.796875 4.046875 \nQ 43.703125 -1.421875 29.984375 -1.421875 \nQ 24.8125 -1.421875 18.96875 -0.25 \nQ 13.140625 0.921875 6.890625 3.21875 \nL 6.890625 13.375 \nQ 12.890625 10.015625 18.65625 8.296875 \nQ 24.421875 6.59375 29.984375 6.59375 \nQ 38.421875 6.59375 43.015625 9.90625 \nQ 47.609375 13.234375 47.609375 19.390625 \nQ 47.609375 24.75 44.3125 27.78125 \nQ 41.015625 30.8125 33.5 32.328125 \nL 27.484375 33.5 \nQ 16.453125 35.6875 11.515625 40.375 \nQ 6.59375 45.0625 6.59375 53.421875 \nQ 6.59375 63.09375 13.40625 68.65625 \nQ 20.21875 74.21875 32.171875 74.21875 \nQ 37.3125 74.21875 42.625 73.28125 \nQ 47.953125 72.359375 53.515625 70.515625 \nz\n\" id=\"DejaVuSans-83\"/>\n       <path d=\"M 34.28125 27.484375 \nQ 23.390625 27.484375 19.1875 25 \nQ 14.984375 22.515625 14.984375 16.5 \nQ 14.984375 11.71875 18.140625 8.90625 \nQ 21.296875 6.109375 26.703125 6.109375 \nQ 34.1875 6.109375 38.703125 11.40625 \nQ 43.21875 16.703125 43.21875 25.484375 \nL 43.21875 27.484375 \nz\nM 52.203125 31.203125 \nL 52.203125 0 \nL 43.21875 0 \nL 43.21875 8.296875 \nQ 40.140625 3.328125 35.546875 0.953125 \nQ 30.953125 -1.421875 24.3125 -1.421875 \nQ 15.921875 -1.421875 10.953125 3.296875 \nQ 6 8.015625 6 15.921875 \nQ 6 25.140625 12.171875 29.828125 \nQ 18.359375 34.515625 30.609375 34.515625 \nL 43.21875 34.515625 \nL 43.21875 35.40625 \nQ 43.21875 41.609375 39.140625 45 \nQ 35.0625 48.390625 27.6875 48.390625 \nQ 23 48.390625 18.546875 47.265625 \nQ 14.109375 46.140625 10.015625 43.890625 \nL 10.015625 52.203125 \nQ 14.9375 54.109375 19.578125 55.046875 \nQ 24.21875 56 28.609375 56 \nQ 40.484375 56 46.34375 49.84375 \nQ 52.203125 43.703125 52.203125 31.203125 \nz\n\" id=\"DejaVuSans-97\"/>\n       <path d=\"M 9.421875 75.984375 \nL 18.40625 75.984375 \nL 18.40625 0 \nL 9.421875 0 \nz\n\" id=\"DejaVuSans-108\"/>\n       <path d=\"M 56.203125 29.59375 \nL 56.203125 25.203125 \nL 14.890625 25.203125 \nQ 15.484375 15.921875 20.484375 11.0625 \nQ 25.484375 6.203125 34.421875 6.203125 \nQ 39.59375 6.203125 44.453125 7.46875 \nQ 49.3125 8.734375 54.109375 11.28125 \nL 54.109375 2.78125 \nQ 49.265625 0.734375 44.1875 -0.34375 \nQ 39.109375 -1.421875 33.890625 -1.421875 \nQ 20.796875 -1.421875 13.15625 6.1875 \nQ 5.515625 13.8125 5.515625 26.8125 \nQ 5.515625 40.234375 12.765625 48.109375 \nQ 20.015625 56 32.328125 56 \nQ 43.359375 56 49.78125 48.890625 \nQ 56.203125 41.796875 56.203125 29.59375 \nz\nM 47.21875 32.234375 \nQ 47.125 39.59375 43.09375 43.984375 \nQ 39.0625 48.390625 32.421875 48.390625 \nQ 24.90625 48.390625 20.390625 44.140625 \nQ 15.875 39.890625 15.1875 32.171875 \nz\n\" id=\"DejaVuSans-101\"/>\n       <path d=\"M 44.28125 53.078125 \nL 44.28125 44.578125 \nQ 40.484375 46.53125 36.375 47.5 \nQ 32.28125 48.484375 27.875 48.484375 \nQ 21.1875 48.484375 17.84375 46.4375 \nQ 14.5 44.390625 14.5 40.28125 \nQ 14.5 37.15625 16.890625 35.375 \nQ 19.28125 33.59375 26.515625 31.984375 \nL 29.59375 31.296875 \nQ 39.15625 29.25 43.1875 25.515625 \nQ 47.21875 21.78125 47.21875 15.09375 \nQ 47.21875 7.46875 41.1875 3.015625 \nQ 35.15625 -1.421875 24.609375 -1.421875 \nQ 20.21875 -1.421875 15.453125 -0.5625 \nQ 10.6875 0.296875 5.421875 2 \nL 5.421875 11.28125 \nQ 10.40625 8.6875 15.234375 7.390625 \nQ 20.0625 6.109375 24.8125 6.109375 \nQ 31.15625 6.109375 34.5625 8.28125 \nQ 37.984375 10.453125 37.984375 14.40625 \nQ 37.984375 18.0625 35.515625 20.015625 \nQ 33.0625 21.96875 24.703125 23.78125 \nL 21.578125 24.515625 \nQ 13.234375 26.265625 9.515625 29.90625 \nQ 5.8125 33.546875 5.8125 39.890625 \nQ 5.8125 47.609375 11.28125 51.796875 \nQ 16.75 56 26.8125 56 \nQ 31.78125 56 36.171875 55.265625 \nQ 40.578125 54.546875 44.28125 53.078125 \nz\n\" id=\"DejaVuSans-115\"/>\n      </defs>\n      <use xlink:href=\"#DejaVuSans-83\"/>\n      <use x=\"63.476562\" xlink:href=\"#DejaVuSans-97\"/>\n      <use x=\"124.755859\" xlink:href=\"#DejaVuSans-108\"/>\n      <use x=\"152.539062\" xlink:href=\"#DejaVuSans-101\"/>\n      <use x=\"214.0625\" xlink:href=\"#DejaVuSans-115\"/>\n     </g>\n    </g>\n   </g>\n   <g id=\"matplotlib.axis_2\">\n    <g id=\"ytick_1\">\n     <g id=\"line2d_6\">\n      <defs>\n       <path d=\"M 0 0 \nL -3.5 0 \n\" id=\"m5a22be5d9b\" style=\"stroke:#000000;stroke-width:0.8;\"/>\n      </defs>\n      <g>\n       <use style=\"stroke:#000000;stroke-width:0.8;\" x=\"46.965625\" xlink:href=\"#m5a22be5d9b\" y=\"215.224307\"/>\n      </g>\n     </g>\n     <g id=\"text_7\">\n      <!-- 0 -->\n      <g transform=\"translate(33.603125 219.023526)scale(0.1 -0.1)\">\n       <use xlink:href=\"#DejaVuSans-48\"/>\n      </g>\n     </g>\n    </g>\n    <g id=\"ytick_2\">\n     <g id=\"line2d_7\">\n      <g>\n       <use style=\"stroke:#000000;stroke-width:0.8;\" x=\"46.965625\" xlink:href=\"#m5a22be5d9b\" y=\"181.799768\"/>\n      </g>\n     </g>\n     <g id=\"text_8\">\n      <!-- 50 -->\n      <g transform=\"translate(27.240625 185.598986)scale(0.1 -0.1)\">\n       <use xlink:href=\"#DejaVuSans-53\"/>\n       <use x=\"63.623047\" xlink:href=\"#DejaVuSans-48\"/>\n      </g>\n     </g>\n    </g>\n    <g id=\"ytick_3\">\n     <g id=\"line2d_8\">\n      <g>\n       <use style=\"stroke:#000000;stroke-width:0.8;\" x=\"46.965625\" xlink:href=\"#m5a22be5d9b\" y=\"148.375228\"/>\n      </g>\n     </g>\n     <g id=\"text_9\">\n      <!-- 100 -->\n      <g transform=\"translate(20.878125 152.174447)scale(0.1 -0.1)\">\n       <use xlink:href=\"#DejaVuSans-49\"/>\n       <use x=\"63.623047\" xlink:href=\"#DejaVuSans-48\"/>\n       <use x=\"127.246094\" xlink:href=\"#DejaVuSans-48\"/>\n      </g>\n     </g>\n    </g>\n    <g id=\"ytick_4\">\n     <g id=\"line2d_9\">\n      <g>\n       <use style=\"stroke:#000000;stroke-width:0.8;\" x=\"46.965625\" xlink:href=\"#m5a22be5d9b\" y=\"114.950688\"/>\n      </g>\n     </g>\n     <g id=\"text_10\">\n      <!-- 150 -->\n      <g transform=\"translate(20.878125 118.749907)scale(0.1 -0.1)\">\n       <use xlink:href=\"#DejaVuSans-49\"/>\n       <use x=\"63.623047\" xlink:href=\"#DejaVuSans-53\"/>\n       <use x=\"127.246094\" xlink:href=\"#DejaVuSans-48\"/>\n      </g>\n     </g>\n    </g>\n    <g id=\"ytick_5\">\n     <g id=\"line2d_10\">\n      <g>\n       <use style=\"stroke:#000000;stroke-width:0.8;\" x=\"46.965625\" xlink:href=\"#m5a22be5d9b\" y=\"81.526149\"/>\n      </g>\n     </g>\n     <g id=\"text_11\">\n      <!-- 200 -->\n      <g transform=\"translate(20.878125 85.325367)scale(0.1 -0.1)\">\n       <use xlink:href=\"#DejaVuSans-50\"/>\n       <use x=\"63.623047\" xlink:href=\"#DejaVuSans-48\"/>\n       <use x=\"127.246094\" xlink:href=\"#DejaVuSans-48\"/>\n      </g>\n     </g>\n    </g>\n    <g id=\"ytick_6\">\n     <g id=\"line2d_11\">\n      <g>\n       <use style=\"stroke:#000000;stroke-width:0.8;\" x=\"46.965625\" xlink:href=\"#m5a22be5d9b\" y=\"48.101609\"/>\n      </g>\n     </g>\n     <g id=\"text_12\">\n      <!-- 250 -->\n      <g transform=\"translate(20.878125 51.900828)scale(0.1 -0.1)\">\n       <use xlink:href=\"#DejaVuSans-50\"/>\n       <use x=\"63.623047\" xlink:href=\"#DejaVuSans-53\"/>\n       <use x=\"127.246094\" xlink:href=\"#DejaVuSans-48\"/>\n      </g>\n     </g>\n    </g>\n    <g id=\"ytick_7\">\n     <g id=\"line2d_12\">\n      <g>\n       <use style=\"stroke:#000000;stroke-width:0.8;\" x=\"46.965625\" xlink:href=\"#m5a22be5d9b\" y=\"14.67707\"/>\n      </g>\n     </g>\n     <g id=\"text_13\">\n      <!-- 300 -->\n      <g transform=\"translate(20.878125 18.476288)scale(0.1 -0.1)\">\n       <defs>\n        <path d=\"M 40.578125 39.3125 \nQ 47.65625 37.796875 51.625 33 \nQ 55.609375 28.21875 55.609375 21.1875 \nQ 55.609375 10.40625 48.1875 4.484375 \nQ 40.765625 -1.421875 27.09375 -1.421875 \nQ 22.515625 -1.421875 17.65625 -0.515625 \nQ 12.796875 0.390625 7.625 2.203125 \nL 7.625 11.71875 \nQ 11.71875 9.328125 16.59375 8.109375 \nQ 21.484375 6.890625 26.8125 6.890625 \nQ 36.078125 6.890625 40.9375 10.546875 \nQ 45.796875 14.203125 45.796875 21.1875 \nQ 45.796875 27.640625 41.28125 31.265625 \nQ 36.765625 34.90625 28.71875 34.90625 \nL 20.21875 34.90625 \nL 20.21875 43.015625 \nL 29.109375 43.015625 \nQ 36.375 43.015625 40.234375 45.921875 \nQ 44.09375 48.828125 44.09375 54.296875 \nQ 44.09375 59.90625 40.109375 62.90625 \nQ 36.140625 65.921875 28.71875 65.921875 \nQ 24.65625 65.921875 20.015625 65.03125 \nQ 15.375 64.15625 9.8125 62.3125 \nL 9.8125 71.09375 \nQ 15.4375 72.65625 20.34375 73.4375 \nQ 25.25 74.21875 29.59375 74.21875 \nQ 40.828125 74.21875 47.359375 69.109375 \nQ 53.90625 64.015625 53.90625 55.328125 \nQ 53.90625 49.265625 50.4375 45.09375 \nQ 46.96875 40.921875 40.578125 39.3125 \nz\n\" id=\"DejaVuSans-51\"/>\n       </defs>\n       <use xlink:href=\"#DejaVuSans-51\"/>\n       <use x=\"63.623047\" xlink:href=\"#DejaVuSans-48\"/>\n       <use x=\"127.246094\" xlink:href=\"#DejaVuSans-48\"/>\n      </g>\n     </g>\n    </g>\n    <g id=\"text_14\">\n     <!-- TV -->\n     <g transform=\"translate(14.798438 122.394219)rotate(-90)scale(0.1 -0.1)\">\n      <defs>\n       <path d=\"M -0.296875 72.90625 \nL 61.375 72.90625 \nL 61.375 64.59375 \nL 35.5 64.59375 \nL 35.5 0 \nL 25.59375 0 \nL 25.59375 64.59375 \nL -0.296875 64.59375 \nz\n\" id=\"DejaVuSans-84\"/>\n       <path d=\"M 28.609375 0 \nL 0.78125 72.90625 \nL 11.078125 72.90625 \nL 34.1875 11.53125 \nL 57.328125 72.90625 \nL 67.578125 72.90625 \nL 39.796875 0 \nz\n\" id=\"DejaVuSans-86\"/>\n      </defs>\n      <use xlink:href=\"#DejaVuSans-84\"/>\n      <use x=\"61.083984\" xlink:href=\"#DejaVuSans-86\"/>\n     </g>\n    </g>\n   </g>\n   <g id=\"patch_3\">\n    <path d=\"M 46.965625 224.64 \nL 46.965625 7.2 \n\" style=\"fill:none;stroke:#000000;stroke-linecap:square;stroke-linejoin:miter;stroke-width:0.8;\"/>\n   </g>\n   <g id=\"patch_4\">\n    <path d=\"M 381.765625 224.64 \nL 381.765625 7.2 \n\" style=\"fill:none;stroke:#000000;stroke-linecap:square;stroke-linejoin:miter;stroke-width:0.8;\"/>\n   </g>\n   <g id=\"patch_5\">\n    <path d=\"M 46.965625 224.64 \nL 381.765625 224.64 \n\" style=\"fill:none;stroke:#000000;stroke-linecap:square;stroke-linejoin:miter;stroke-width:0.8;\"/>\n   </g>\n   <g id=\"patch_6\">\n    <path d=\"M 46.965625 7.2 \nL 381.765625 7.2 \n\" style=\"fill:none;stroke:#000000;stroke-linecap:square;stroke-linejoin:miter;stroke-width:0.8;\"/>\n   </g>\n  </g>\n </g>\n <defs>\n  <clipPath id=\"p938c9a5f64\">\n   <rect height=\"217.44\" width=\"334.8\" x=\"46.965625\" y=\"7.2\"/>\n  </clipPath>\n </defs>\n</svg>\n",
      "image/png": "[encoded data removed]"
     },
     "metadata": {
      "needs_background": "light"
     }
    }
   ],
   "source": [
    "data.plot(x='Sales' , y = 'TV' , kind= 'scatter') #Q8"
   ]
  },
  {
   "cell_type": "code",
   "execution_count": 151,
   "metadata": {},
   "outputs": [],
   "source": [
    "from sklearn.linear_model import LinearRegression\n",
    "from sklearn.model_selection import train_test_split"
   ]
  },
  {
   "cell_type": "code",
   "execution_count": 152,
   "metadata": {},
   "outputs": [],
   "source": [
    "sales = pd.DataFrame(data['Sales'])\n",
    "tv = pd.DataFrame(data['TV'])"
   ]
  },
  {
   "cell_type": "code",
   "execution_count": 185,
   "metadata": {},
   "outputs": [],
   "source": [
    "x_train, x_test, y_train, y_test = train_test_split(sales,tv, test_size=0.4, random_state=101)"
   ]
  },
  {
   "cell_type": "code",
   "execution_count": 186,
   "metadata": {},
   "outputs": [
    {
     "output_type": "execute_result",
     "data": {
      "text/plain": [
       "LinearRegression()"
      ]
     },
     "metadata": {},
     "execution_count": 186
    }
   ],
   "source": [
    "lm = LinearRegression()\n",
    "lm.fit(y_test,x_test)"
   ]
  },
  {
   "cell_type": "code",
   "execution_count": 187,
   "metadata": {},
   "outputs": [
    {
     "output_type": "execute_result",
     "data": {
      "text/plain": [
       "array([[18.34289053]])"
      ]
     },
     "metadata": {},
     "execution_count": 187
    }
   ],
   "source": [
    "k = pd.DataFrame([200])\n",
    "lm.predict(k)"
   ]
  },
  {
   "cell_type": "code",
   "execution_count": null,
   "metadata": {},
   "outputs": [],
   "source": []
  }
 ]
}